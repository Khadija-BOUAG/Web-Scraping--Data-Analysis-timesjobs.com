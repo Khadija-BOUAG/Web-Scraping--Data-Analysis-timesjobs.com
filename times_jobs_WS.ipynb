{
  "nbformat": 4,
  "nbformat_minor": 0,
  "metadata": {
    "kernelspec": {
      "display_name": "Python 3",
      "language": "python",
      "name": "python3"
    },
    "language_info": {
      "codemirror_mode": {
        "name": "ipython",
        "version": 3
      },
      "file_extension": ".py",
      "mimetype": "text/x-python",
      "name": "python",
      "nbconvert_exporter": "python",
      "pygments_lexer": "ipython3",
      "version": "3.6.5"
    },
    "colab": {
      "name": "times_jobs_WS.ipynb",
      "provenance": []
    }
  },
  "cells": [
    {
      "cell_type": "code",
      "metadata": {
        "id": "HVCCT5CmiISP"
      },
      "source": [
        "from bs4 import BeautifulSoup\n",
        "import requests\n",
        "from tqdm import tqdm \n",
        "import pandas as pd"
      ],
      "execution_count": 11,
      "outputs": []
    },
    {
      "cell_type": "code",
      "metadata": {
        "colab": {
          "base_uri": "https://localhost:8080/"
        },
        "id": "YhL__2b5iISv",
        "outputId": "15c562dd-6fb1-4122-b1ad-3ba7448db78a"
      },
      "source": [
        "jobs_ = []\n",
        "pages = 1200\n",
        "\n",
        "for i in tqdm(range(pages)) :\n",
        "  \n",
        "    session = requests.Session()\n",
        "    adapter = requests.adapters.HTTPAdapter(max_retries=20)\n",
        "    session.mount('https://', adapter)\n",
        "    session.mount('http://', adapter)\n",
        "    page=session.get(f'https://www.timesjobs.com/candidate/job-search.html?from=submit&actualTxtKeywords=data%20science&searchBy=0&rdoOperator=OR&searchType=personalizedSearch&luceneResultSize=25&postWeek=60&txtKeywords=data%20science&pDate=I&sequence={i}&startPage=31')\n",
        "    soup = BeautifulSoup(page.text, 'html.parser')\n",
        "    \n",
        "    jobs = soup.findAll('li', class_='clearfix job-bx wht-shd-bx')\n",
        "    \n",
        "    for job in jobs :\n",
        "        try :\n",
        "            job_name = job.find('header', class_='clearfix').h2.text.strip()\n",
        "            #company = job.find('h3', class_ = 'joblist-comp-name').text.strip().replace('\\r\\n', '')\n",
        "            skills = job.find('span', class_='srp-skills').text.strip().replace(' ','')\n",
        "            when_posted = job.find('span', class_='sim-posted').text.strip()\n",
        "            job_description = job.find('ul', class_='list-job-dtl clearfix').li.text.split('\\n')[-2]\n",
        "        \n",
        "        except :\n",
        "            if not job_name :\n",
        "                job_name = None\n",
        "            elif not skills :\n",
        "                skills = None\n",
        "            elif not when_posted :\n",
        "                when_posted = None\n",
        "            elif not job_description :\n",
        "                job_description = None\n",
        "        \n",
        "        details = {\n",
        "            'Job Name':job_name,\n",
        "            'Job Description':job_description,\n",
        "            'Skills': skills,\n",
        "            'When Posted': when_posted\n",
        "        }\n",
        "        \n",
        "        jobs_.append(details)\n",
        "        \n",
        "        "
      ],
      "execution_count": null,
      "outputs": [
        {
          "output_type": "stream",
          "text": [
            " 95%|█████████▌| 570/600 [36:25<01:57,  3.91s/it]"
          ],
          "name": "stderr"
        }
      ]
    },
    {
      "cell_type": "code",
      "metadata": {
        "colab": {
          "base_uri": "https://localhost:8080/"
        },
        "id": "zZ_KuiW8iISz",
        "outputId": "395901c4-fa94-4c9e-f5fc-99346c89dbac"
      },
      "source": [
        "len(jobs_)"
      ],
      "execution_count": 10,
      "outputs": [
        {
          "output_type": "execute_result",
          "data": {
            "text/plain": [
              "29975"
            ]
          },
          "metadata": {
            "tags": []
          },
          "execution_count": 10
        }
      ]
    },
    {
      "cell_type": "code",
      "metadata": {
        "id": "AZozvjKJkifu"
      },
      "source": [
        "df = pd.DataFrame(jobs_)"
      ],
      "execution_count": 12,
      "outputs": []
    },
    {
      "cell_type": "code",
      "metadata": {
        "id": "ZmW0TohD2dJN",
        "outputId": "964e892c-90bc-4e12-9fb3-fc6d9080943d",
        "colab": {
          "base_uri": "https://localhost:8080/"
        }
      },
      "source": [
        "df.shape"
      ],
      "execution_count": 13,
      "outputs": [
        {
          "output_type": "execute_result",
          "data": {
            "text/plain": [
              "(29975, 4)"
            ]
          },
          "metadata": {
            "tags": []
          },
          "execution_count": 13
        }
      ]
    },
    {
      "cell_type": "code",
      "metadata": {
        "id": "b2u3ewra2e7Y",
        "outputId": "6a0c3438-77b5-4579-fbe9-2b47899ecbd0",
        "colab": {
          "base_uri": "https://localhost:8080/",
          "height": 204
        }
      },
      "source": [
        "df.head()"
      ],
      "execution_count": 14,
      "outputs": [
        {
          "output_type": "execute_result",
          "data": {
            "text/html": [
              "<div>\n",
              "<style scoped>\n",
              "    .dataframe tbody tr th:only-of-type {\n",
              "        vertical-align: middle;\n",
              "    }\n",
              "\n",
              "    .dataframe tbody tr th {\n",
              "        vertical-align: top;\n",
              "    }\n",
              "\n",
              "    .dataframe thead th {\n",
              "        text-align: right;\n",
              "    }\n",
              "</style>\n",
              "<table border=\"1\" class=\"dataframe\">\n",
              "  <thead>\n",
              "    <tr style=\"text-align: right;\">\n",
              "      <th></th>\n",
              "      <th>Job Name</th>\n",
              "      <th>Job Description</th>\n",
              "      <th>Skills</th>\n",
              "      <th>When Posted</th>\n",
              "    </tr>\n",
              "  </thead>\n",
              "  <tbody>\n",
              "    <tr>\n",
              "      <th>0</th>\n",
              "      <td>Data Science Internship in Mumbai</td>\n",
              "      <td>Maxgen Technologies Pvt Ltd offering Live Proj...</td>\n",
              "      <td>.</td>\n",
              "      <td>Posted 2 days ago</td>\n",
              "    </tr>\n",
              "    <tr>\n",
              "      <th>1</th>\n",
              "      <td>Data Science Internship in Pune</td>\n",
              "      <td>Maxgen Technologies Pvt Ltd is An It Company S...</td>\n",
              "      <td>.</td>\n",
              "      <td>Posted 2 days ago</td>\n",
              "    </tr>\n",
              "    <tr>\n",
              "      <th>2</th>\n",
              "      <td>Data Science</td>\n",
              "      <td>The Spec Analytics Analyst is a trainee profes...</td>\n",
              "      <td>dataanalysis,sql,datascience,analyst,datavisua...</td>\n",
              "      <td>Posted few days ago</td>\n",
              "    </tr>\n",
              "    <tr>\n",
              "      <th>3</th>\n",
              "      <td>Data Science</td>\n",
              "      <td>The Spec Analytics Analyst is a trainee profes...</td>\n",
              "      <td>dataanalysis,sql,datascience,analyst,datavisua...</td>\n",
              "      <td>Posted few days ago</td>\n",
              "    </tr>\n",
              "    <tr>\n",
              "      <th>4</th>\n",
              "      <td>Data Sciences</td>\n",
              "      <td>What operational signals tell me if a customer...</td>\n",
              "      <td>advancedanalytics,dataanalytics,sas,consulting...</td>\n",
              "      <td>Posted few days ago</td>\n",
              "    </tr>\n",
              "  </tbody>\n",
              "</table>\n",
              "</div>"
            ],
            "text/plain": [
              "                            Job Name  ...          When Posted\n",
              "0  Data Science Internship in Mumbai  ...    Posted 2 days ago\n",
              "1    Data Science Internship in Pune  ...    Posted 2 days ago\n",
              "2                       Data Science  ...  Posted few days ago\n",
              "3                       Data Science  ...  Posted few days ago\n",
              "4                      Data Sciences  ...  Posted few days ago\n",
              "\n",
              "[5 rows x 4 columns]"
            ]
          },
          "metadata": {
            "tags": []
          },
          "execution_count": 14
        }
      ]
    },
    {
      "cell_type": "code",
      "metadata": {
        "id": "ZFPGFdbW2iG6"
      },
      "source": [
        "df.to_csv('data_science_jobs.csv')"
      ],
      "execution_count": 15,
      "outputs": []
    }
  ]
}
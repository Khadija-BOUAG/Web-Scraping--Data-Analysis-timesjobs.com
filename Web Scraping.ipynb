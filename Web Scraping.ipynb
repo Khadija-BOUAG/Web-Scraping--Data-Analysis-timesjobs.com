{
  "nbformat": 4,
  "nbformat_minor": 0,
  "metadata": {
    "kernelspec": {
      "display_name": "Python 3",
      "language": "python",
      "name": "python3"
    },
    "language_info": {
      "codemirror_mode": {
        "name": "ipython",
        "version": 3
      },
      "file_extension": ".py",
      "mimetype": "text/x-python",
      "name": "python",
      "nbconvert_exporter": "python",
      "pygments_lexer": "ipython3",
      "version": "3.6.5"
    },
    "colab": {
      "name": "Untitled27.ipynb",
      "provenance": []
    }
  },
  "cells": [
    {
      "cell_type": "code",
      "metadata": {
        "id": "HMVG6ibqEIdc"
      },
      "source": [
        "from bs4 import BeautifulSoup\n",
        "import requests\n",
        "from tqdm import tqdm \n",
        "import pandas as pd"
      ],
      "execution_count": null,
      "outputs": []
    },
    {
      "cell_type": "code",
      "metadata": {
        "colab": {
          "base_uri": "https://localhost:8080/"
        },
        "id": "z0Rckwd3EIdx",
        "outputId": "ea4de12f-93e6-4975-a5e2-8db4d062cbab"
      },
      "source": [
        "jobs_ = []\n",
        "pages = 100\n",
        "\n",
        "for i in tqdm(range(pages)) :\n",
        "  \n",
        "    session = requests.Session()\n",
        "    adapter = requests.adapters.HTTPAdapter(max_retries=20)\n",
        "    session.mount('https://', adapter)\n",
        "    session.mount('http://', adapter)\n",
        "    page=session.get(f'https://www.timesjobs.com/candidate/job-search.html?from=submit&actualTxtKeywords=data%20science&searchBy=0&rdoOperator=OR&searchType=personalizedSearch&luceneResultSize=25&postWeek=60&txtKeywords=data%20science&pDate=I&sequence={i}&startPage=31')\n",
        "    soup = BeautifulSoup(page.text, 'html.parser')\n",
        "    \n",
        "    jobs = soup.findAll('li', class_='clearfix job-bx wht-shd-bx')\n",
        "    jobs_links = [job.h2.a[\"href\"] for job in jobs]\n",
        "    \n",
        "    for job in jobs_links :\n",
        "        \n",
        "        session = requests.Session()\n",
        "        adapter = requests.adapters.HTTPAdapter(max_retries=20)\n",
        "        session.mount('https://', adapter)\n",
        "        session.mount('http://', adapter)\n",
        "        ad=session.get(job)\n",
        "        soup = BeautifulSoup(ad.text, 'html.parser')\n",
        "        \n",
        "        try :\n",
        "            lists = soup.find('ul', {'class':'clearfix', 'id':'applyFlowHideDetails_1'}).findAll('li')\n",
        "            job_info = [elt.text.strip().replace('\\n',' ').replace('\\r',' ').replace('\\t',' ') for elt in lists]\n",
        "            skills_tag = soup.find('div', class_ = 'jd-sec job-skills clearfix').div.find_all('span')\n",
        "            skills = [skill.text for skill in skills_tag]\n",
        "            location = soup.find('ul', class_ = 'top-jd-dtl clearfix').find_all('li')[2]['title']\n",
        "        \n",
        "        except :\n",
        "            if not job_info :\n",
        "                job_info = None\n",
        "            elif not skills :\n",
        "                skills = None\n",
        "            elif not when_posted :\n",
        "                when_posted = None\n",
        "            elif not location :\n",
        "                location = None\n",
        "        \n",
        "        details = {\n",
        "            'Job info':job_info,\n",
        "            'Skills': skills,\n",
        "            'location': location\n",
        "        }\n",
        "        \n",
        "        jobs_.append(details)\n",
        "        \n",
        "        "
      ],
      "execution_count": null,
      "outputs": [
        {
          "output_type": "stream",
          "text": [
            "100%|██████████| 100/100 [58:05<00:00, 34.86s/it]\n"
          ],
          "name": "stderr"
        }
      ]
    },
    {
      "cell_type": "code",
      "metadata": {
        "id": "_QezXn_lEId3"
      },
      "source": [
        "df = pd.DataFrame(jobs_)"
      ],
      "execution_count": null,
      "outputs": []
    },
    {
      "cell_type": "code",
      "metadata": {
        "colab": {
          "base_uri": "https://localhost:8080/"
        },
        "id": "J63JOX-zbM8O",
        "outputId": "bfa2ab93-2746-4ae1-fb77-e236c7749249"
      },
      "source": [
        "df.shape"
      ],
      "execution_count": null,
      "outputs": [
        {
          "output_type": "execute_result",
          "data": {
            "text/plain": [
              "(2475, 3)"
            ]
          },
          "metadata": {
            "tags": []
          },
          "execution_count": 4
        }
      ]
    },
    {
      "cell_type": "code",
      "metadata": {
        "colab": {
          "base_uri": "https://localhost:8080/",
          "height": 289
        },
        "id": "sHR0BCsrbOuB",
        "outputId": "9267de21-057f-4f61-e12f-96ad2022489d"
      },
      "source": [
        "df.head()"
      ],
      "execution_count": null,
      "outputs": [
        {
          "output_type": "execute_result",
          "data": {
            "text/html": [
              "<div>\n",
              "<style scoped>\n",
              "    .dataframe tbody tr th:only-of-type {\n",
              "        vertical-align: middle;\n",
              "    }\n",
              "\n",
              "    .dataframe tbody tr th {\n",
              "        vertical-align: top;\n",
              "    }\n",
              "\n",
              "    .dataframe thead th {\n",
              "        text-align: right;\n",
              "    }\n",
              "</style>\n",
              "<table border=\"1\" class=\"dataframe\">\n",
              "  <thead>\n",
              "    <tr style=\"text-align: right;\">\n",
              "      <th></th>\n",
              "      <th>Job info</th>\n",
              "      <th>Skills</th>\n",
              "      <th>location</th>\n",
              "    </tr>\n",
              "  </thead>\n",
              "  <tbody>\n",
              "    <tr>\n",
              "      <th>0</th>\n",
              "      <td>[Job Function: IT Software : Software Products...</td>\n",
              "      <td>[data analysis , sql , data science , analyst ...</td>\n",
              "      <td>Bengaluru/ Bangalore (Karnataka)</td>\n",
              "    </tr>\n",
              "    <tr>\n",
              "      <th>1</th>\n",
              "      <td>[Job Function: IT Software : Software Products...</td>\n",
              "      <td>[data analysis , sql , data science , analyst ...</td>\n",
              "      <td>Bengaluru/ Bangalore (Karnataka)</td>\n",
              "    </tr>\n",
              "    <tr>\n",
              "      <th>2</th>\n",
              "      <td>[Job Function: IT Software : Software Products...</td>\n",
              "      <td>[advanced analytics , data analytics , sas , c...</td>\n",
              "      <td>Bengaluru/ Bangalore (Karnataka)</td>\n",
              "    </tr>\n",
              "    <tr>\n",
              "      <th>3</th>\n",
              "      <td>[Job Function: IT Software : Software Products...</td>\n",
              "      <td>[sql , data science , use cases , data analyti...</td>\n",
              "      <td>Mumbai (Maharashtra), Chennai (Tamil Nadu), Pu...</td>\n",
              "    </tr>\n",
              "    <tr>\n",
              "      <th>4</th>\n",
              "      <td>[Job Function: IT Software : Software Products...</td>\n",
              "      <td>[data mining , api , machine learning ]</td>\n",
              "      <td>Bengaluru/ Bangalore (Karnataka)</td>\n",
              "    </tr>\n",
              "  </tbody>\n",
              "</table>\n",
              "</div>"
            ],
            "text/plain": [
              "                                            Job info  ...                                           location\n",
              "0  [Job Function: IT Software : Software Products...  ...                   Bengaluru/ Bangalore (Karnataka)\n",
              "1  [Job Function: IT Software : Software Products...  ...                   Bengaluru/ Bangalore (Karnataka)\n",
              "2  [Job Function: IT Software : Software Products...  ...                   Bengaluru/ Bangalore (Karnataka)\n",
              "3  [Job Function: IT Software : Software Products...  ...  Mumbai (Maharashtra), Chennai (Tamil Nadu), Pu...\n",
              "4  [Job Function: IT Software : Software Products...  ...                   Bengaluru/ Bangalore (Karnataka)\n",
              "\n",
              "[5 rows x 3 columns]"
            ]
          },
          "metadata": {
            "tags": []
          },
          "execution_count": 5
        }
      ]
    },
    {
      "cell_type": "code",
      "metadata": {
        "id": "_P9kCbi2bRuI"
      },
      "source": [
        "df.to_csv('data_science.csv')"
      ],
      "execution_count": null,
      "outputs": []
    }
  ]
}